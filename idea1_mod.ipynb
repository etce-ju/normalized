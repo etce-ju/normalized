{
 "cells": [
  {
   "cell_type": "code",
   "execution_count": 58,
   "metadata": {},
   "outputs": [],
   "source": [
    "import numpy as np\n",
    "import pandas as pd\n",
    "from csv import reader\n",
    "import math\n",
    "from math import floor\n",
    "import random\n",
    "from collections import defaultdict\n",
    "import itertools"
   ]
  },
  {
   "cell_type": "code",
   "execution_count": 59,
   "metadata": {},
   "outputs": [],
   "source": [
    "with open('dlbcl_preprocessed.txt', newline='') as db:\n",
    "    data = list(reader(db, delimiter=' '))"
   ]
  },
  {
   "cell_type": "code",
   "execution_count": 60,
   "metadata": {},
   "outputs": [],
   "source": [
    "#Returns a Vector from a list\n",
    "\n",
    "class Vector(object):\n",
    "\n",
    "    def __init__(self, components):\n",
    "        if not isinstance(components, tuple) and not isinstance(components, list):\n",
    "            raise ValueError(\"Components must be a tuple or list.\")\n",
    "        if len(components) == 0:\n",
    "            raise ValueError(\"Components must be at least 1-dimensional.\")\n",
    "        self.dimensions = len(components)\n",
    "        self.components = components\n",
    "\n",
    "    def __getitem__(self, key):\n",
    "        return self.components[key]\n",
    "\n",
    "    def __str__(self):\n",
    "        return self.components.__str__()\n",
    "\n",
    "    def __len__(self):\n",
    "        return self.dimensions"
   ]
  },
  {
   "cell_type": "code",
   "execution_count": 61,
   "metadata": {},
   "outputs": [],
   "source": [
    "# Measures square of euclidian distance for a nD vector\n",
    "\n",
    "def cheap_dist(v1, v2):\n",
    "    comps1 = v1.components\n",
    "    comps2 = v2.components\n",
    "    max_dimensions = max(v1.dimensions, v2.dimensions)\n",
    "    dist = 0.0\n",
    "    for i in range(0, max_dimensions):\n",
    "        dist += math.pow(v1[i]-v2[i] , 2)\n",
    "    return dist"
   ]
  },
  {
   "cell_type": "code",
   "execution_count": 62,
   "metadata": {},
   "outputs": [],
   "source": [
    "# Measures euclidian distance for a nD vector\n",
    "\n",
    "def dist(v1, v2):\n",
    "    return math.sqrt(cheap_dist(v1,v2))"
   ]
  },
  {
   "cell_type": "code",
   "execution_count": 63,
   "metadata": {},
   "outputs": [],
   "source": [
    "def normalize(v):\n",
    "    norm=np.linalg.norm(v, ord=1)\n",
    "    if norm==0:\n",
    "        norm=np.finfo(v.dtype).eps\n",
    "    return v/norm"
   ]
  },
  {
   "cell_type": "code",
   "execution_count": 64,
   "metadata": {},
   "outputs": [],
   "source": [
    "#prepare the dataset\n",
    "\n",
    "dataset = []\n",
    "for i in range(len(data)):\n",
    "    temp = []\n",
    "    for x in data[i][1:]:\n",
    "        temp.append(float(x))\n",
    "    vec = Vector(list(normalize(temp)))\n",
    "    dataset.append(vec)"
   ]
  },
  {
   "cell_type": "code",
   "execution_count": 65,
   "metadata": {},
   "outputs": [
    {
     "name": "stdout",
     "output_type": "stream",
     "text": [
      "Number of genes = 2648\n",
      "Number of features = 77\n"
     ]
    }
   ],
   "source": [
    "print(\"Number of genes = {}\".format(len(dataset)))\n",
    "print(\"Number of features = {}\".format(len(dataset[0])))"
   ]
  },
  {
   "cell_type": "code",
   "execution_count": 66,
   "metadata": {},
   "outputs": [],
   "source": [
    "#Prepares the distance matrix :\n",
    "\n",
    "def dist_matrix(points) : \n",
    "    n  = len(points)\n",
    "    max_dist = 0.0\n",
    "    min_dist = 10000000\n",
    "    dist_mat = [[-1 for j in range(n)] for i in range(n)]\n",
    "    for i in range(len(dist_mat)):\n",
    "        for j in range (i+1,len(dist_mat)):\n",
    "            dist_mat[i][j] = dist(points[i],points[j])\n",
    "            if dist_mat[i][j] >= max_dist and dist_mat[i][j] > 0.0 :\n",
    "                max_dist = dist_mat[i][j]\n",
    "            elif dist_mat[i][j] <= min_dist :\n",
    "                min_dist = dist_mat[i][j]\n",
    "                \n",
    "    return dist_mat,max_dist,min_dist\n",
    "    \n",
    "    "
   ]
  },
  {
   "cell_type": "code",
   "execution_count": 67,
   "metadata": {},
   "outputs": [
    {
     "name": "stdout",
     "output_type": "stream",
     "text": [
      "CPU times: user 2min 51s, sys: 188 ms, total: 2min 51s\n",
      "Wall time: 2min 51s\n"
     ]
    }
   ],
   "source": [
    "%%time\n",
    "matrix, max_dist, min_dist = dist_matrix(dataset)"
   ]
  },
  {
   "cell_type": "code",
   "execution_count": 165,
   "metadata": {},
   "outputs": [
    {
     "name": "stdout",
     "output_type": "stream",
     "text": [
      "Maximum distance -> 0.35665308171700916\n",
      "Minimum distance -> 0.003704981857418169\n"
     ]
    }
   ],
   "source": [
    "print(\"Maximum distance -> {}\".format(max_dist))\n",
    "print(\"Minimum distance -> {}\".format(min_dist))"
   ]
  },
  {
   "cell_type": "code",
   "execution_count": 166,
   "metadata": {},
   "outputs": [
    {
     "name": "stdout",
     "output_type": "stream",
     "text": [
      "Enter the value of alpha -> 15\n"
     ]
    }
   ],
   "source": [
    "alpha = float(input(\"Enter the value of alpha -> \"))\n",
    "th_dist = (max_dist - min_dist)/alpha"
   ]
  },
  {
   "cell_type": "code",
   "execution_count": 167,
   "metadata": {},
   "outputs": [
    {
     "name": "stdout",
     "output_type": "stream",
     "text": [
      "Radius of clustre -> 0.02352987332397273\n"
     ]
    }
   ],
   "source": [
    "print(\"Radius of clustre -> {}\".format(th_dist))"
   ]
  },
  {
   "cell_type": "code",
   "execution_count": 168,
   "metadata": {},
   "outputs": [],
   "source": [
    "# Modified QuickSort\n",
    "# Given a set of clustures, sorts according to the length of clustures\n",
    "\n",
    "\n",
    "def partition(arr,low,high): \n",
    "    i = ( low-1 )         # index of smaller element \n",
    "    pivot = arr[high]     # pivot \n",
    "  \n",
    "    for j in range(low , high): \n",
    "  \n",
    "        # If current element is smaller than or \n",
    "        # equal to pivot \n",
    "        if   len(arr[j]) <= len(pivot) : \n",
    "          \n",
    "            # increment index of smaller element \n",
    "            i = i+1 \n",
    "            arr[i],arr[j] = arr[j],arr[i] \n",
    "  \n",
    "    arr[i+1],arr[high] = arr[high],arr[i+1] \n",
    "    return ( i+1 ) \n",
    "  \n",
    "# The main function that implements QuickSort \n",
    "# arr[] --> Array to be sorted, \n",
    "# low  --> Starting index, \n",
    "# high  --> Ending index \n",
    "  \n",
    "# Function to do Quick sort \n",
    "def quickSort(arr,low,high): \n",
    "    if low < high: \n",
    "  \n",
    "        # pi is partitioning index, arr[p] is now \n",
    "        # at right place \n",
    "        pi = partition(arr,low,high) \n",
    "  \n",
    "        # Separately sort elements before \n",
    "        # partition and after partition \n",
    "        quickSort(arr, low, pi-1) \n",
    "        quickSort(arr, pi+1, high) "
   ]
  },
  {
   "cell_type": "code",
   "execution_count": 169,
   "metadata": {},
   "outputs": [],
   "source": [
    "def prepare_clustre(mattrix,simi_th = 0.9) :\n",
    "    tot_clu = []\n",
    "    for i in range(len(matrix)) :\n",
    "        point_clu = []\n",
    "        point_clu.append(dataset[i])\n",
    "        for j in range(i+1, len(matrix)) :\n",
    "            if matrix[i][j] < th_dist :\n",
    "                point_clu.append(dataset[j])\n",
    "        tot_clu.append(point_clu)\n",
    "    n = len(tot_clu) \n",
    "    quickSort(tot_clu,0,n-1)\n",
    "    tot_clu.reverse()\n",
    "    list2 = [x for x in tot_clu if x]\n",
    "    clu = []\n",
    "    clu.append(list2[0])\n",
    "    for i in range(1,len(list2)):\n",
    "        clu_new = list2[i]\n",
    "        common_elements = list(set().union(*clu) & set(clu_new))\n",
    "        simi = len(common_elements)/len(clu_new)\n",
    "        clu_nei = list(set(clu_new) - set(common_elements))\n",
    "        if simi < simi_th :\n",
    "            clu.append(clu_nei)\n",
    "        else :\n",
    "            clu[-1] = clu[-1] + clu_nei\n",
    "    n = len(clu) \n",
    "    quickSort(clu,0,n-1) \n",
    "    clu.reverse()\n",
    "    return clu\n",
    "    \n",
    "        \n",
    "    "
   ]
  },
  {
   "cell_type": "code",
   "execution_count": 170,
   "metadata": {},
   "outputs": [
    {
     "name": "stdout",
     "output_type": "stream",
     "text": [
      "CPU times: user 1.06 s, sys: 6 µs, total: 1.06 s\n",
      "Wall time: 1.06 s\n"
     ]
    }
   ],
   "source": [
    "%%time\n",
    "clustre = prepare_clustre(matrix)"
   ]
  },
  {
   "cell_type": "code",
   "execution_count": 171,
   "metadata": {},
   "outputs": [],
   "source": [
    "%matplotlib inline\n",
    "import pandas as pd\n",
    "from sklearn.datasets import load_iris\n",
    "from sklearn.decomposition import PCA\n",
    "from sklearn.manifold import TSNE\n",
    "\n",
    "import matplotlib.pyplot as plt\n",
    "from matplotlib.colors import ListedColormap\n",
    "from mpl_toolkits.mplot3d import Axes3D\n",
    "import seaborn as sns"
   ]
  },
  {
   "cell_type": "code",
   "execution_count": 172,
   "metadata": {},
   "outputs": [],
   "source": [
    "def stat(clu) :\n",
    "    top = int(input(\"Top n classes, n = \"))\n",
    "    print(\"<-------Top {} cluster------->\".format(top))\n",
    "    for i in range(top):\n",
    "        print(\"Number of elements in cluster {} = {}\".format(i+1,len(clu[i])))\n",
    "    dataset = []\n",
    "    target = []\n",
    "    for i in range(top):\n",
    "        dataset = dataset + clu[i]\n",
    "        for j in range(len(clu[i])):\n",
    "            target.append(i)\n",
    "    tsne = TSNE(n_components=2, n_iter=10000, random_state=42)\n",
    "    points = tsne.fit_transform(dataset)\n",
    "    plt.scatter(x = points[:, 0], y = points[:, 1],\n",
    "        c=target,\n",
    "        cmap=ListedColormap(sns.color_palette('Dark2', n_colors=10).as_hex()),\n",
    "        s=70)\n",
    "    \n",
    "    "
   ]
  },
  {
   "cell_type": "code",
   "execution_count": 173,
   "metadata": {},
   "outputs": [
    {
     "name": "stdout",
     "output_type": "stream",
     "text": [
      "Top n classes, n = 10\n",
      "<-------Top 10 cluster------->\n",
      "Number of elements in cluster 1 = 115\n",
      "Number of elements in cluster 2 = 80\n",
      "Number of elements in cluster 3 = 47\n",
      "Number of elements in cluster 4 = 28\n",
      "Number of elements in cluster 5 = 24\n",
      "Number of elements in cluster 6 = 24\n",
      "Number of elements in cluster 7 = 23\n",
      "Number of elements in cluster 8 = 22\n",
      "Number of elements in cluster 9 = 21\n",
      "Number of elements in cluster 10 = 20\n"
     ]
    },
    {
     "data": {
      "image/png": "[encoded data removed]",
      "text/plain": [
       "<Figure size 432x288 with 1 Axes>"
      ]
     },
     "metadata": {},
     "output_type": "display_data"
    }
   ],
   "source": [
    "stat(clustre)"
   ]
  },
  {
   "cell_type": "code",
   "execution_count": 174,
   "metadata": {},
   "outputs": [],
   "source": [
    "top10 = clustre[:10]"
   ]
  },
  {
   "cell_type": "code",
   "execution_count": 175,
   "metadata": {},
   "outputs": [],
   "source": [
    "lenlist = []\n",
    "for i in range(len(top10)):\n",
    "    lenlist.append(len(top10[i]))"
   ]
  },
  {
   "cell_type": "code",
   "execution_count": 176,
   "metadata": {},
   "outputs": [
    {
     "data": {
      "text/plain": [
       "[115, 80, 47, 28, 24, 24, 23, 22, 21, 20]"
      ]
     },
     "execution_count": 176,
     "metadata": {},
     "output_type": "execute_result"
    }
   ],
   "source": [
    "lenlist"
   ]
  },
  {
   "cell_type": "code",
   "execution_count": 177,
   "metadata": {},
   "outputs": [],
   "source": [
    "var = np.var(lenlist)"
   ]
  },
  {
   "cell_type": "code",
   "execution_count": 178,
   "metadata": {},
   "outputs": [
    {
     "data": {
      "text/plain": [
       "930.2399999999998"
      ]
     },
     "execution_count": 178,
     "metadata": {},
     "output_type": "execute_result"
    }
   ],
   "source": [
    "var\n"
   ]
  },
  {
   "cell_type": "code",
   "execution_count": 179,
   "metadata": {},
   "outputs": [],
   "source": [
    "alpha_range = [20,50,100,125,150]\n",
    "std_list = []\n",
    "consid = []\n",
    "for alpha in alpha_range :\n",
    "    th_dist = (max_dist - min_dist)/alpha\n",
    "    clustre = prepare_clustre(matrix)\n",
    "    top10 = clustre[:10]\n",
    "    lenlist = []\n",
    "    summ = 0\n",
    "    for i in range(len(top10)):\n",
    "        lenlist.append(len(top10[i]))\n",
    "        summ = summ + len(top10[i])\n",
    "    std_list.append(np.std(lenlist))\n",
    "    consid.append(summ)\n",
    "    \n",
    "    "
   ]
  },
  {
   "cell_type": "code",
   "execution_count": 180,
   "metadata": {},
   "outputs": [
    {
     "data": {
      "text/plain": [
       "[9.459915433025817, 0.4, 0.0, 0.0, 0.0]"
      ]
     },
     "execution_count": 180,
     "metadata": {},
     "output_type": "execute_result"
    }
   ],
   "source": [
    "std_list"
   ]
  },
  {
   "cell_type": "code",
   "execution_count": 181,
   "metadata": {},
   "outputs": [
    {
     "data": {
      "text/plain": [
       "[149, 12, 10, 10, 10]"
      ]
     },
     "execution_count": 181,
     "metadata": {},
     "output_type": "execute_result"
    }
   ],
   "source": [
    "consid"
   ]
  },
  {
   "cell_type": "code",
   "execution_count": 182,
   "metadata": {},
   "outputs": [
    {
     "data": {
      "text/plain": [
       "[<matplotlib.lines.Line2D at 0x7fc76ed3c668>]"
      ]
     },
     "execution_count": 182,
     "metadata": {},
     "output_type": "execute_result"
    },
    {
     "data": {
      "image/png": "[encoded data removed]",
      "text/plain": [
       "<Figure size 432x288 with 1 Axes>"
      ]
     },
     "metadata": {},
     "output_type": "display_data"
    }
   ],
   "source": [
    "plt.plot(alpha_range,std_list)"
   ]
  },
  {
   "cell_type": "code",
   "execution_count": 183,
   "metadata": {},
   "outputs": [
    {
     "data": {
      "text/plain": [
       "[<matplotlib.lines.Line2D at 0x7fc76eb32860>]"
      ]
     },
     "execution_count": 183,
     "metadata": {},
     "output_type": "execute_result"
    },
    {
     "data": {
      "image/png": "[encoded data removed]",
      "text/plain": [
       "<Figure size 432x288 with 1 Axes>"
      ]
     },
     "metadata": {},
     "output_type": "display_data"
    }
   ],
   "source": [
    "plt.plot(alpha_range,consid)"
   ]
  },
  {
   "cell_type": "code",
   "execution_count": null,
   "metadata": {},
   "outputs": [],
   "source": []
  }
 ],
 "metadata": {
  "kernelspec": {
   "display_name": "Python 3",
   "language": "python",
   "name": "python3"
  },
  "language_info": {
   "codemirror_mode": {
    "name": "ipython",
    "version": 3
   },
   "file_extension": ".py",
   "mimetype": "text/x-python",
   "name": "python",
   "nbconvert_exporter": "python",
   "pygments_lexer": "ipython3",
   "version": "3.6.5"
  }
 },
 "nbformat": 4,
 "nbformat_minor": 2
}
